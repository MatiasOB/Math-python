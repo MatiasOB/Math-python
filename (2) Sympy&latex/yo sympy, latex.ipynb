{
 "cells": [
  {
   "cell_type": "code",
   "execution_count": 1,
   "id": "05231c77",
   "metadata": {},
   "outputs": [],
   "source": [
    "import sympy as sym\n",
    "#sym.init_printing(fontsize=\"10p\") # this makes numbers look good.\n",
    "import numpy as np\n",
    "from IPython.display import Math"
   ]
  },
  {
   "cell_type": "code",
   "execution_count": 10,
   "id": "b313d2c5",
   "metadata": {},
   "outputs": [
    {
     "data": {
      "image/png": "[encoded data removed]",
      "text/latex": [
       "$\\displaystyle x$"
      ],
      "text/plain": [
       "x"
      ]
     },
     "execution_count": 10,
     "metadata": {},
     "output_type": "execute_result"
    }
   ],
   "source": [
    "x,y = sym.symbols(\"x,y\")\n",
    "x"
   ]
  },
  {
   "cell_type": "code",
   "execution_count": 15,
   "id": "7e206813",
   "metadata": {},
   "outputs": [
    {
     "data": {
      "image/png": "[encoded data removed]",
      "text/latex": [
       "$\\displaystyle \\left( y + 4, \\  \\frac{x}{y}\\right)$"
      ],
      "text/plain": [
       "⎛       x⎞\n",
       "⎜y + 4, ─⎟\n",
       "⎝       y⎠"
      ]
     },
     "execution_count": 15,
     "metadata": {},
     "output_type": "execute_result"
    }
   ],
   "source": [
    "y + 4, x/y"
   ]
  },
  {
   "cell_type": "markdown",
   "id": "f8351165",
   "metadata": {},
   "source": [
    "## Latex"
   ]
  },
  {
   "cell_type": "markdown",
   "id": "7ae178bb",
   "metadata": {},
   "source": [
    "$$\\frac{1+x}{2v-s^{t+4r}}$$"
   ]
  },
  {
   "cell_type": "markdown",
   "id": "a49b85b4",
   "metadata": {},
   "source": [
    "$$\\sigma = \\mu \\times \\sqrt{5x+3z-17u} $$"
   ]
  },
  {
   "cell_type": "code",
   "execution_count": 31,
   "id": "b35fd12f",
   "metadata": {},
   "outputs": [
    {
     "data": {
      "image/png": "[encoded data removed]",
      "text/latex": [
       "$\\displaystyle e^{\\frac{\\left(- \\alpha + \\mu\\right)^{2}}{2 \\sigma^{2}}}$"
      ],
      "text/plain": [
       "         2\n",
       " (-α + μ) \n",
       " ─────────\n",
       "       2  \n",
       "    2⋅σ   \n",
       "ℯ         "
      ]
     },
     "execution_count": 31,
     "metadata": {},
     "output_type": "execute_result"
    }
   ],
   "source": [
    "mu, alpha, sigma = sym.symbols('mu,alpha,sigma')\n",
    "\n",
    "expr = sym.exp((mu-alpha)**2 / (2*sigma**2))\n",
    "expr"
   ]
  },
  {
   "cell_type": "code",
   "execution_count": 40,
   "id": "5153567f",
   "metadata": {},
   "outputs": [
    {
     "data": {
      "image/png": "[encoded data removed]",
      "text/latex": [
       "$\\displaystyle 10$"
      ],
      "text/plain": [
       "10"
      ]
     },
     "execution_count": 40,
     "metadata": {},
     "output_type": "execute_result"
    }
   ],
   "source": [
    "x = sym.symbols(\"x\")\n",
    "expr  = x + 4\n",
    "\n",
    "expr.subs(x,6) # replaced symbolic x with 6."
   ]
  },
  {
   "cell_type": "code",
   "execution_count": 41,
   "id": "2a7d6646",
   "metadata": {},
   "outputs": [
    {
     "data": {
      "image/png": "[encoded data removed]",
      "text/latex": [
       "$\\displaystyle 9$"
      ],
      "text/plain": [
       "9"
      ]
     },
     "execution_count": 41,
     "metadata": {},
     "output_type": "execute_result"
    }
   ],
   "source": [
    "x,y  = sym.symbols(\"x,y\")\n",
    "expr = x+4+2*y\n",
    "expr.subs({x:-3, y:4})"
   ]
  },
  {
   "cell_type": "code",
   "execution_count": 25,
   "id": "44aebe03",
   "metadata": {},
   "outputs": [
    {
     "data": {
      "text/latex": [
       "$\\displaystyle 5 + \\frac{3}{x}$"
      ],
      "text/plain": [
       "<IPython.core.display.Math object>"
      ]
     },
     "execution_count": 25,
     "metadata": {},
     "output_type": "execute_result"
    }
   ],
   "source": [
    "from IPython.display import Math, display\n",
    "x,y  = sym.symbols(\"x,y\")\n",
    "z = 5\n",
    "\n",
    "expr = 3/x + z\n",
    "\n",
    "Math(sym.latex(expr))"
   ]
  },
  {
   "cell_type": "code",
   "execution_count": 66,
   "id": "46e1d5c3",
   "metadata": {},
   "outputs": [
    {
     "name": "stdout",
     "output_type": "stream",
     "text": [
      "\\frac{3}{4}\n"
     ]
    }
   ],
   "source": [
    "print(sym.latex(sym.sympify('3/4')))"
   ]
  },
  {
   "cell_type": "markdown",
   "id": "92047379",
   "metadata": {},
   "source": [
    "$$\\frac{3}{4}$$"
   ]
  },
  {
   "cell_type": "code",
   "execution_count": 2,
   "id": "9b909b40",
   "metadata": {},
   "outputs": [
    {
     "name": "stdout",
     "output_type": "stream",
     "text": [
      "\\frac{x^{2}}{4} + \\frac{5}{\\mu}\n"
     ]
    }
   ],
   "source": [
    "x,y,mu  = sym.symbols(\"x,y,mu\")\n",
    "\n",
    "print(sym.latex(sym.sympify(x**2/4 + 5/mu)))"
   ]
  },
  {
   "cell_type": "markdown",
   "id": "45bce219",
   "metadata": {},
   "source": [
    "$$\\frac{x^{2}}{4} + \\frac{5}{\\mu}$$"
   ]
  },
  {
   "cell_type": "code",
   "execution_count": 3,
   "id": "5bccfd71",
   "metadata": {},
   "outputs": [
    {
     "data": {
      "text/latex": [
       "$\\displaystyle \\frac{3}{4}$"
      ],
      "text/plain": [
       "<IPython.core.display.Math object>"
      ]
     },
     "execution_count": 3,
     "metadata": {},
     "output_type": "execute_result"
    }
   ],
   "source": [
    "Math(sym.latex(sym.sympify('3/4')))"
   ]
  },
  {
   "cell_type": "code",
   "execution_count": 4,
   "id": "7f69218f",
   "metadata": {},
   "outputs": [
    {
     "data": {
      "text/latex": [
       "$\\displaystyle \\text{With x = }-2,\\quad x^2+4 \\quad \\Rightarrow \\quad -2^2+4=8$"
      ],
      "text/plain": [
       "<IPython.core.display.Math object>"
      ]
     },
     "metadata": {},
     "output_type": "display_data"
    },
    {
     "data": {
      "text/latex": [
       "$\\displaystyle \\text{With x = }-1,\\quad x^2+4 \\quad \\Rightarrow \\quad -1^2+4=5$"
      ],
      "text/plain": [
       "<IPython.core.display.Math object>"
      ]
     },
     "metadata": {},
     "output_type": "display_data"
    },
    {
     "data": {
      "text/latex": [
       "$\\displaystyle \\text{With x = }0,\\quad x^2+4 \\quad \\Rightarrow \\quad 0^2+4=4$"
      ],
      "text/plain": [
       "<IPython.core.display.Math object>"
      ]
     },
     "metadata": {},
     "output_type": "display_data"
    },
    {
     "data": {
      "text/latex": [
       "$\\displaystyle \\text{With x = }1,\\quad x^2+4 \\quad \\Rightarrow \\quad 1^2+4=5$"
      ],
      "text/plain": [
       "<IPython.core.display.Math object>"
      ]
     },
     "metadata": {},
     "output_type": "display_data"
    },
    {
     "data": {
      "text/latex": [
       "$\\displaystyle \\text{With x = }2,\\quad x^2+4 \\quad \\Rightarrow \\quad 2^2+4=8$"
      ],
      "text/plain": [
       "<IPython.core.display.Math object>"
      ]
     },
     "metadata": {},
     "output_type": "display_data"
    }
   ],
   "source": [
    "\n",
    "for i in range(-2,3):\n",
    "    ans = (x+4).subs(x,i**2)\n",
    "    display(Math('\\\\text{With x = }%g,\\\\quad x^2+4 \\\\quad \\\\Rightarrow \\\\quad %g^2+4=%g' %(i, i, ans)))"
   ]
  },
  {
   "cell_type": "code",
   "execution_count": 5,
   "id": "6cef0970",
   "metadata": {},
   "outputs": [
    {
     "name": "stdout",
     "output_type": "stream",
     "text": [
      "\\frac{x^{2}}{4} + \\frac{25}{\\mu^{2}}\n"
     ]
    }
   ],
   "source": [
    "x,y,mu  = sym.symbols(\"x,y,mu\")\n",
    "expr = sym.sympify(x**2/4 + (5/mu)**2)\n",
    "latex_expr = sym.latex(expr)\n",
    "print(latex_expr)"
   ]
  },
  {
   "cell_type": "markdown",
   "id": "30f220e9",
   "metadata": {},
   "source": [
    "$$\\frac{x^{2}}{4} + \\frac{25}{\\mu^{2}}$$"
   ]
  },
  {
   "cell_type": "markdown",
   "id": "60e69360",
   "metadata": {},
   "source": [
    "# Law of exponents"
   ]
  },
  {
   "cell_type": "code",
   "execution_count": 15,
   "id": "491e8815",
   "metadata": {},
   "outputs": [
    {
     "data": {
      "text/latex": [
       "$\\displaystyle x^{y} x^{z} + 3$"
      ],
      "text/plain": [
       "x**y*x**z + 3"
      ]
     },
     "execution_count": 15,
     "metadata": {},
     "output_type": "execute_result"
    }
   ],
   "source": [
    "x, y, z = sym.symbols(\"x,y,z\")\n",
    "\n",
    "ex = x**y * x**z+3\n",
    "ex"
   ]
  },
  {
   "cell_type": "code",
   "execution_count": 10,
   "id": "981936e9",
   "metadata": {},
   "outputs": [
    {
     "data": {
      "text/latex": [
       "$\\displaystyle x^{y + z}$"
      ],
      "text/plain": [
       "x**(y + z)"
      ]
     },
     "execution_count": 10,
     "metadata": {},
     "output_type": "execute_result"
    }
   ],
   "source": [
    "sym.simplify(ex)"
   ]
  },
  {
   "cell_type": "code",
   "execution_count": 16,
   "id": "3abba83c",
   "metadata": {},
   "outputs": [],
   "source": [
    "ex1 = x**y * x**z\n",
    "ex2 = x**y / x**z\n",
    "ex3 = x**y * y**z"
   ]
  },
  {
   "cell_type": "code",
   "execution_count": 27,
   "id": "eecca4c2",
   "metadata": {},
   "outputs": [
    {
     "data": {
      "text/latex": [
       "$\\displaystyle x^{y} x^{z} = x^{y + z}$"
      ],
      "text/plain": [
       "<IPython.core.display.Math object>"
      ]
     },
     "execution_count": 27,
     "metadata": {},
     "output_type": "execute_result"
    }
   ],
   "source": [
    "Math(\"%s = %s\" %(sym.latex(ex1), sym.latex(sym.simplify(ex1))))\n"
   ]
  },
  {
   "cell_type": "code",
   "execution_count": 28,
   "id": "7a126d5f",
   "metadata": {},
   "outputs": [
    {
     "data": {
      "text/latex": [
       "$\\displaystyle \\text{True}$"
      ],
      "text/plain": [
       "True"
      ]
     },
     "execution_count": 28,
     "metadata": {},
     "output_type": "execute_result"
    }
   ],
   "source": [
    "sym.Eq(4,2**2)"
   ]
  },
  {
   "cell_type": "code",
   "execution_count": 33,
   "id": "eec2729a",
   "metadata": {},
   "outputs": [
    {
     "data": {
      "text/latex": [
       "$\\displaystyle \\text{True}$"
      ],
      "text/plain": [
       "True"
      ]
     },
     "execution_count": 33,
     "metadata": {},
     "output_type": "execute_result"
    }
   ],
   "source": [
    "lhs = 4\n",
    "rgs = 6-2\n",
    "\n",
    "sym.Eq(rgs-lhs,0)"
   ]
  },
  {
   "cell_type": "code",
   "execution_count": 41,
   "id": "e6b5b46b",
   "metadata": {},
   "outputs": [
    {
     "data": {
      "text/latex": [
       "$\\displaystyle x^{y + z}$"
      ],
      "text/plain": [
       "x**(y + z)"
      ]
     },
     "execution_count": 41,
     "metadata": {},
     "output_type": "execute_result"
    }
   ],
   "source": [
    "sym.powsimp(ex1)"
   ]
  },
  {
   "cell_type": "code",
   "execution_count": 48,
   "id": "5b127324",
   "metadata": {},
   "outputs": [
    {
     "data": {
      "text/latex": [
       "$\\displaystyle \\sigma_{cii} = mi \\sigma_{ci}$"
      ],
      "text/plain": [
       "Eq(sigma_cii, mi*sigma_ci)"
      ]
     },
     "execution_count": 48,
     "metadata": {},
     "output_type": "execute_result"
    }
   ],
   "source": [
    "import sympy as sym\n",
    "\n",
    "# Define the variables used in the Hoek-Brown equations\n",
    "mi = sym.symbols('mi')\n",
    "sigma_ci = sym.symbols('sigma_ci')\n",
    "sigma_cii = sym.symbols('sigma_cii')\n",
    "sigma_pi = sym.symbols('sigma_pi')\n",
    "sigma_t = sym.symbols('sigma_t')\n",
    "\n",
    "# Define the Hoek-Brown equations\n",
    "eq1 = sym.Eq(sigma_t, sigma_ci + sigma_pi)\n",
    "eq2 = sym.Eq(sigma_cii, mi * sigma_ci)\n",
    "\n",
    "# Solve the equations for the unknown variables\n",
    "#solutions = sym.solve([eq1, eq2], [sigma_t, sigma_cii])\n",
    "\n",
    "# Print the solutions to the equations\n",
    "#solutions\n",
    "eq2"
   ]
  },
  {
   "cell_type": "code",
   "execution_count": null,
   "id": "36a93b41",
   "metadata": {},
   "outputs": [],
   "source": []
  }
 ],
 "metadata": {
  "hide_input": false,
  "kernelspec": {
   "display_name": "Python 3 (ipykernel)",
   "language": "python",
   "name": "python3"
  },
  "language_info": {
   "codemirror_mode": {
    "name": "ipython",
    "version": 3
   },
   "file_extension": ".py",
   "mimetype": "text/x-python",
   "name": "python",
   "nbconvert_exporter": "python",
   "pygments_lexer": "ipython3",
   "version": "3.9.13"
  }
 },
 "nbformat": 4,
 "nbformat_minor": 5
}
