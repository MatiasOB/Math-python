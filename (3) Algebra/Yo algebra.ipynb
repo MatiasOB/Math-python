{
 "cells": [
  {
   "cell_type": "code",
   "execution_count": 1,
   "id": "8e213358",
   "metadata": {},
   "outputs": [],
   "source": [
    "import sympy as sym\n",
    "#sym.init_printing(fontsize=\"10p\") # this makes numbers look good.\n",
    "import numpy as np\n",
    "from IPython.display import Math"
   ]
  },
  {
   "cell_type": "markdown",
   "id": "a2dbe538",
   "metadata": {},
   "source": [
    "<font color=\"red\">**INTRO**</font>"
   ]
  },
  {
   "cell_type": "code",
   "execution_count": 19,
   "id": "fd6955c9",
   "metadata": {},
   "outputs": [
    {
     "data": {
      "text/latex": [
       "$\\displaystyle 2 x - 5$"
      ],
      "text/plain": [
       "2*x - 5"
      ]
     },
     "execution_count": 19,
     "metadata": {},
     "output_type": "execute_result"
    }
   ],
   "source": [
    "# i input the homogeneous side of the equation.\n",
    "\n",
    "x = sym.symbols(\"x\")\n",
    "\n",
    "eq1 = 2*x + 4 - 9\n",
    "eq1"
   ]
  },
  {
   "cell_type": "code",
   "execution_count": 18,
   "id": "7b4cc1bc",
   "metadata": {},
   "outputs": [
    {
     "data": {
      "text/plain": [
       "[5/2]"
      ]
     },
     "execution_count": 18,
     "metadata": {},
     "output_type": "execute_result"
    }
   ],
   "source": [
    "sym.solve(eq1)"
   ]
  },
  {
   "cell_type": "code",
   "execution_count": 25,
   "id": "41251568",
   "metadata": {},
   "outputs": [
    {
     "data": {
      "text/latex": [
       "$\\displaystyle \\text{The solution of } 2 x - 5 = 0 \\text{ is [5/2]}$"
      ],
      "text/plain": [
       "<IPython.core.display.Math object>"
      ]
     },
     "execution_count": 25,
     "metadata": {},
     "output_type": "execute_result"
    }
   ],
   "source": [
    "Math(\"\\\\text{The solution of } %s = 0 \\\\text{ is %s}\" %(sym.latex(eq1), sym.solve(eq1))  )"
   ]
  },
  {
   "cell_type": "code",
   "execution_count": 35,
   "id": "da686fc5",
   "metadata": {},
   "outputs": [
    {
     "data": {
      "text/latex": [
       "$\\displaystyle x^{2} - 4 = 0$"
      ],
      "text/plain": [
       "Eq(x**2 - 4, 0)"
      ]
     },
     "metadata": {},
     "output_type": "display_data"
    },
    {
     "name": "stdout",
     "output_type": "stream",
     "text": [
      "Solution #1 is -2\n",
      "Solution #2 is 2\n"
     ]
    }
   ],
   "source": [
    "expr = x**2 - 4\n",
    "sol = sym.solve(x**2-4)\n",
    "\n",
    "display(sym.Eq(expr,0))\n",
    "\n",
    "for i in range(0, len(sol)):\n",
    "    print(\"Solution #\" +str(i+1) + \" is \" + str(sol[i]))"
   ]
  },
  {
   "cell_type": "code",
   "execution_count": 41,
   "id": "f75548db",
   "metadata": {},
   "outputs": [],
   "source": [
    "x, y = sym.symbols(\"x, y\")\n",
    "\n",
    "expr = x/4 - x*y + 5\n",
    "\n",
    "solve_x = sym.solve(expr,x)\n",
    "solve_y = sym.solve(expr,y)"
   ]
  },
  {
   "cell_type": "code",
   "execution_count": 49,
   "id": "6220d14b",
   "metadata": {},
   "outputs": [
    {
     "name": "stdout",
     "output_type": "stream",
     "text": [
      "Given the following equation:\n"
     ]
    },
    {
     "data": {
      "text/latex": [
       "$\\displaystyle - x y + \\frac{x}{4} + 5 = 0$"
      ],
      "text/plain": [
       "Eq(-x*y + x/4 + 5, 0)"
      ]
     },
     "metadata": {},
     "output_type": "display_data"
    },
    {
     "name": "stdout",
     "output_type": "stream",
     "text": [
      "Solution for x is: \n"
     ]
    },
    {
     "data": {
      "text/latex": [
       "$\\displaystyle \\frac{20}{4 y - 1}$"
      ],
      "text/plain": [
       "20/(4*y - 1)"
      ]
     },
     "metadata": {},
     "output_type": "display_data"
    },
    {
     "name": "stdout",
     "output_type": "stream",
     "text": [
      "Solution for y is: \n"
     ]
    },
    {
     "data": {
      "text/latex": [
       "$\\displaystyle \\frac{x + 20}{4 x}$"
      ],
      "text/plain": [
       "(x + 20)/(4*x)"
      ]
     },
     "metadata": {},
     "output_type": "display_data"
    }
   ],
   "source": [
    "print(\"Given the following equation:\")\n",
    "display(sym.Eq(expr,0))\n",
    "\n",
    "print(\"Solution for x is: \")\n",
    "display(solve_x[0])\n",
    "\n",
    "print(\"Solution for y is: \")\n",
    "display(solve_y[0])"
   ]
  },
  {
   "cell_type": "markdown",
   "id": "f60e755e",
   "metadata": {},
   "source": [
    "**Exercise 1**"
   ]
  },
  {
   "cell_type": "code",
   "execution_count": 102,
   "id": "fd3bfbda",
   "metadata": {},
   "outputs": [
    {
     "name": "stdout",
     "output_type": "stream",
     "text": [
      "Given the following equation:\n"
     ]
    },
    {
     "data": {
      "text/latex": [
       "$\\displaystyle 3 q + 3 + \\frac{4}{q} = 5 q + 1 + \\frac{1}{q}$"
      ],
      "text/plain": [
       "Eq(3*q + 3 + 4/q, 5*q + 1 + 1/q)"
      ]
     },
     "metadata": {},
     "output_type": "display_data"
    },
    {
     "name": "stdout",
     "output_type": "stream",
     "text": [
      "Simplified version is: \n"
     ]
    },
    {
     "data": {
      "text/latex": [
       "$\\displaystyle - 2 q + 2 + \\frac{3}{q} = 0$"
      ],
      "text/plain": [
       "Eq(-2*q + 2 + 3/q, 0)"
      ]
     },
     "metadata": {},
     "output_type": "display_data"
    },
    {
     "name": "stdout",
     "output_type": "stream",
     "text": [
      "Number of solutions is 2:\n",
      "\n"
     ]
    },
    {
     "data": {
      "text/latex": [
       "$\\displaystyle q=\\left[ \\frac{1}{2} - \\frac{\\sqrt{7}}{2}, \\  \\frac{1}{2} + \\frac{\\sqrt{7}}{2}\\right]$"
      ],
      "text/plain": [
       "<IPython.core.display.Math object>"
      ]
     },
     "metadata": {},
     "output_type": "display_data"
    }
   ],
   "source": [
    "q = sym.symbols(\"q\")\n",
    "eq1 = sym.Eq(3*q + 4/q + 3, 5*q + 1/q + 1)\n",
    "simplified_eq1 = sym.simplify(3*q + 4/q + 3 -(5*q + 1/q + 1))\n",
    "solve_q = sym.solve(simplified_eq1, q)\n",
    "\n",
    "print(\"Given the following equation:\")\n",
    "display(eq1)\n",
    "\n",
    "print(\"Simplified version is: \")\n",
    "display(sym.Eq(simplified_eq1,0))\n",
    "\n",
    "print(f\"Number of solutions is {len(solve_q)}:\\n\")\n",
    "\n",
    "display(Math(\"q=\" + sym.latex(solve_q)))\n",
    "\n",
    "# for n in range(0, len(solve_q)):\n",
    "\n",
    "#     print(f\"Solution #{n} for q is: \")\n",
    "#     display(solve_q[n])"
   ]
  },
  {
   "cell_type": "markdown",
   "id": "b998795b",
   "metadata": {},
   "source": [
    "**Exercise 2**"
   ]
  },
  {
   "cell_type": "code",
   "execution_count": 104,
   "id": "478797be",
   "metadata": {},
   "outputs": [
    {
     "data": {
      "text/latex": [
       "$\\displaystyle 3 q^{2} + 2 q - \\frac{5}{q} - \\frac{4}{q^{3}}$"
      ],
      "text/plain": [
       "3*q**2 + 2*q - 5/q - 4/q**3"
      ]
     },
     "metadata": {},
     "output_type": "display_data"
    },
    {
     "data": {
      "text/latex": [
       "$\\displaystyle \\frac{3 q^{5} + 2 q^{4} - 5 q^{2} - 4}{q^{3}}$"
      ],
      "text/plain": [
       "(3*q**5 + 2*q**4 - 5*q**2 - 4)/q**3"
      ]
     },
     "metadata": {},
     "output_type": "display_data"
    },
    {
     "name": "stdout",
     "output_type": "stream",
     "text": [
      "Number of solutions is 5:\n",
      "\n"
     ]
    }
   ],
   "source": [
    "q = sym.symbols(\"q\")\n",
    "base_eq = 2*q + 3*q**2 -5/q - 4/q**3\n",
    "eq2 = sym.Eq(base_eq, 0)\n",
    "simplified_eq2 = sym.simplify(base_eq)\n",
    "cancel_eq2 = sym.cancel(base_eq)\n",
    "solve_q = sym.solve(cancel_eq2,q)\n",
    "\n",
    "\n",
    "display(simplified_eq2)\n",
    "\n",
    "display(cancel_eq2)\n",
    "\n",
    "print(f\"Number of solutions is {len(solve_q)}:\\n\")\n"
   ]
  },
  {
   "cell_type": "markdown",
   "id": "85fbefda",
   "metadata": {},
   "source": [
    "**Exercise 3**"
   ]
  },
  {
   "cell_type": "code",
   "execution_count": 124,
   "id": "eca49851",
   "metadata": {},
   "outputs": [
    {
     "data": {
      "text/latex": [
       "$\\displaystyle \\frac{\\sqrt{15} q + \\sqrt{3}}{\\sqrt{10} q + \\sqrt{2}}$"
      ],
      "text/plain": [
       "(sqrt(15)*q + sqrt(3))/(sqrt(10)*q + sqrt(2))"
      ]
     },
     "metadata": {},
     "output_type": "display_data"
    },
    {
     "data": {
      "text/latex": [
       "$\\displaystyle \\frac{\\sqrt{6}}{2}$"
      ],
      "text/plain": [
       "sqrt(6)/2"
      ]
     },
     "metadata": {},
     "output_type": "display_data"
    },
    {
     "data": {
      "text/latex": [
       "$\\displaystyle 1.225$"
      ],
      "text/plain": [
       "1.225"
      ]
     },
     "execution_count": 124,
     "metadata": {},
     "output_type": "execute_result"
    }
   ],
   "source": [
    "q = sym.symbols(\"q\")\n",
    "\n",
    "#eq = (3**0.5 + 15**0.5 * q) / (2**0.5 + 10**0.5 * q)\n",
    "\n",
    "eq = (sym.root(3,2) + sym.root(15,2) * q) / (sym.root(2,2) + sym.root(10,2)* q)\n",
    "simplified_eq = sym.simplify(eq)\n",
    "\n",
    "display(eq)\n",
    "display(simplified_eq)\n",
    "\n",
    "eq.subs(q,100).evalf(n=4)"
   ]
  },
  {
   "cell_type": "markdown",
   "id": "92f07d9d",
   "metadata": {},
   "source": [
    "<font color=\"red\">**Expanding Terms**</font>"
   ]
  },
  {
   "cell_type": "code",
   "execution_count": 129,
   "id": "606201a3",
   "metadata": {},
   "outputs": [
    {
     "data": {
      "text/latex": [
       "$\\displaystyle x \\left(4 x + 5\\right)$"
      ],
      "text/plain": [
       "x*(4*x + 5)"
      ]
     },
     "metadata": {},
     "output_type": "display_data"
    },
    {
     "data": {
      "text/latex": [
       "$\\displaystyle 4 x^{2} + 5 x$"
      ],
      "text/plain": [
       "4*x**2 + 5*x"
      ]
     },
     "metadata": {},
     "output_type": "display_data"
    }
   ],
   "source": [
    "# other way of creating symbols.\n",
    "from sympy.abc import x\n",
    "\n",
    "x = sym.symbols(\"x\")\n",
    "\n",
    "term1 = (4*x + 5)\n",
    "term2 = x\n",
    "\n",
    "display(term1*term2)\n",
    "display(sym.expand((term1*term2)))"
   ]
  },
  {
   "cell_type": "code",
   "execution_count": 130,
   "id": "0844b13c",
   "metadata": {},
   "outputs": [
    {
     "data": {
      "text/latex": [
       "$\\displaystyle \\left(x - 7\\right) \\left(4 x + 5\\right)$"
      ],
      "text/plain": [
       "(x - 7)*(4*x + 5)"
      ]
     },
     "metadata": {},
     "output_type": "display_data"
    },
    {
     "data": {
      "text/latex": [
       "$\\displaystyle 4 x^{2} - 23 x - 35$"
      ],
      "text/plain": [
       "4*x**2 - 23*x - 35"
      ]
     },
     "metadata": {},
     "output_type": "display_data"
    }
   ],
   "source": [
    "term3 = x - 7\n",
    "\n",
    "display(term1*term3)\n",
    "display(sym.expand((term1*term3)))"
   ]
  },
  {
   "cell_type": "code",
   "execution_count": 131,
   "id": "66218d6d",
   "metadata": {},
   "outputs": [],
   "source": [
    "from sympy.abc import y"
   ]
  },
  {
   "cell_type": "code",
   "execution_count": 152,
   "id": "64141289",
   "metadata": {},
   "outputs": [
    {
     "data": {
      "text/latex": [
       "$\\displaystyle x \\left(- \\frac{5^{x}}{x} + 2 y^{2}\\right)$"
      ],
      "text/plain": [
       "x*(-5**x/x + 2*y**2)"
      ]
     },
     "metadata": {},
     "output_type": "display_data"
    },
    {
     "data": {
      "text/latex": [
       "$\\displaystyle - 5^{x} + 2 x y^{2}$"
      ],
      "text/plain": [
       "-5**x + 2*x*y**2"
      ]
     },
     "metadata": {},
     "output_type": "display_data"
    }
   ],
   "source": [
    "expr = x*(2*y**2 - 5**x/x)\n",
    "display(expr)\n",
    "display(sym.expand(expr))"
   ]
  },
  {
   "cell_type": "code",
   "execution_count": 134,
   "id": "30c53ce7",
   "metadata": {},
   "outputs": [],
   "source": [
    "#magic command %whos shows me all the object,modules i have in the python workspace\n",
    "\n",
    "#%whos"
   ]
  },
  {
   "cell_type": "code",
   "execution_count": 147,
   "id": "909d57b0",
   "metadata": {},
   "outputs": [
    {
     "data": {
      "text/latex": [
       "$\\displaystyle \\mathtt{\\text{When x=0 and y=0, f(x,y)=8}}$"
      ],
      "text/plain": [
       "<IPython.core.display.Math object>"
      ]
     },
     "metadata": {},
     "output_type": "display_data"
    },
    {
     "data": {
      "text/latex": [
       "$\\displaystyle \\mathtt{\\text{When x=0 and y=1, f(x,y)=4}}$"
      ],
      "text/plain": [
       "<IPython.core.display.Math object>"
      ]
     },
     "metadata": {},
     "output_type": "display_data"
    },
    {
     "data": {
      "text/latex": [
       "$\\displaystyle \\mathtt{\\text{When x=0 and y=2, f(x,y)=0}}$"
      ],
      "text/plain": [
       "<IPython.core.display.Math object>"
      ]
     },
     "metadata": {},
     "output_type": "display_data"
    },
    {
     "data": {
      "text/latex": [
       "$\\displaystyle \\mathtt{\\text{When x=1 and y=0, f(x,y)=10}}$"
      ],
      "text/plain": [
       "<IPython.core.display.Math object>"
      ]
     },
     "metadata": {},
     "output_type": "display_data"
    },
    {
     "data": {
      "text/latex": [
       "$\\displaystyle \\mathtt{\\text{When x=1 and y=1, f(x,y)=5}}$"
      ],
      "text/plain": [
       "<IPython.core.display.Math object>"
      ]
     },
     "metadata": {},
     "output_type": "display_data"
    },
    {
     "data": {
      "text/latex": [
       "$\\displaystyle \\mathtt{\\text{When x=1 and y=2, f(x,y)=0}}$"
      ],
      "text/plain": [
       "<IPython.core.display.Math object>"
      ]
     },
     "metadata": {},
     "output_type": "display_data"
    },
    {
     "data": {
      "text/latex": [
       "$\\displaystyle \\mathtt{\\text{When x=2 and y=0, f(x,y)=12}}$"
      ],
      "text/plain": [
       "<IPython.core.display.Math object>"
      ]
     },
     "metadata": {},
     "output_type": "display_data"
    },
    {
     "data": {
      "text/latex": [
       "$\\displaystyle \\mathtt{\\text{When x=2 and y=1, f(x,y)=6}}$"
      ],
      "text/plain": [
       "<IPython.core.display.Math object>"
      ]
     },
     "metadata": {},
     "output_type": "display_data"
    },
    {
     "data": {
      "text/latex": [
       "$\\displaystyle \\mathtt{\\text{When x=2 and y=2, f(x,y)=0}}$"
      ],
      "text/plain": [
       "<IPython.core.display.Math object>"
      ]
     },
     "metadata": {},
     "output_type": "display_data"
    }
   ],
   "source": [
    "expr = (4+x)*(2-y)\n",
    "\n",
    "for n in range(3):\n",
    "    for i in range(3):\n",
    "        #display(Math(sym.latex(f\"When x = {n} and y = {i},  f(x,y) = \") + sym.latex(expr.subs({x:n, y:i}))))\n",
    "        display(Math(sym.latex(\"When x=%g and y=%g, f(x,y)=%g\" %(n,i, expr.subs({x:n, y:i})))))"
   ]
  },
  {
   "cell_type": "markdown",
   "id": "1ce64cdd",
   "metadata": {},
   "source": [
    "<font color=\"red\">**Matrix and Numpy**</font>"
   ]
  },
  {
   "cell_type": "code",
   "execution_count": 2,
   "id": "c3436a23",
   "metadata": {},
   "outputs": [
    {
     "data": {
      "text/plain": [
       "array([[[ 0,  1,  2],\n",
       "        [ 3,  4,  5],\n",
       "        [ 6,  7,  8]],\n",
       "\n",
       "       [[ 9, 10, 11],\n",
       "        [12, 13, 14],\n",
       "        [15, 16, 17]],\n",
       "\n",
       "       [[18, 19, 20],\n",
       "        [21, 22, 23],\n",
       "        [24, 25, 26]]])"
      ]
     },
     "execution_count": 2,
     "metadata": {},
     "output_type": "execute_result"
    }
   ],
   "source": [
    "matrix = np.arange(0,27).reshape(3,3,3)\n",
    "matrix"
   ]
  },
  {
   "cell_type": "code",
   "execution_count": 9,
   "id": "195b1a70",
   "metadata": {},
   "outputs": [
    {
     "data": {
      "text/latex": [
       "$\\displaystyle \\left[\\begin{matrix}0 & 3 & 6\\\\9 & 12 & 15\\\\18 & 21 & 24\\end{matrix}\\right]$"
      ],
      "text/plain": [
       "[[0, 3, 6], [9, 12, 15], [18, 21, 24]]"
      ]
     },
     "metadata": {},
     "output_type": "display_data"
    }
   ],
   "source": [
    "matrix = np.arange(0,27).reshape(3,3,3)\n",
    "display(sym.sympify(matrix[:,:,0]))"
   ]
  },
  {
   "cell_type": "code",
   "execution_count": 14,
   "id": "0a0c304c",
   "metadata": {},
   "outputs": [
    {
     "data": {
      "text/latex": [
       "$\\displaystyle \\left[\\begin{matrix}0.0 & 2.0 & 0.0 & 0.0 & 0.0 & 0.0\\\\0.0 & 0.0 & 0.0 & 0.0 & 0.0 & 0.0\\\\0.0 & 0.0 & 0.0 & 0.0 & 7.0 & 0.0\\\\0.0 & 0.0 & 0.0 & 0.0 & 0.0 & 0.0\\end{matrix}\\right]$"
      ],
      "text/plain": [
       "[[0.0, 2.0, 0.0, 0.0, 0.0, 0.0], [0.0, 0.0, 0.0, 0.0, 0.0, 0.0], [0.0, 0.0, 0.0, 0.0, 7.0, 0.0], [0.0, 0.0, 0.0, 0.0, 0.0, 0.0]]"
      ]
     },
     "execution_count": 14,
     "metadata": {},
     "output_type": "execute_result"
    }
   ],
   "source": [
    "mat = np.zeros([4,6])\n",
    "mat[0,1] = 2\n",
    "mat[2,4] = 7\n",
    "(sym.sympify(mat))\n"
   ]
  },
  {
   "cell_type": "code",
   "execution_count": 27,
   "id": "52cc1e2f",
   "metadata": {},
   "outputs": [],
   "source": [
    "for c in range(6):\n",
    "    for r in range(4):\n",
    "        mat[r,c] = (-1)**(r+c)"
   ]
  },
  {
   "cell_type": "code",
   "execution_count": 28,
   "id": "72c976a4",
   "metadata": {},
   "outputs": [
    {
     "data": {
      "text/latex": [
       "$\\displaystyle \\left[\\begin{matrix}1.0 & -1.0 & 1.0 & -1.0 & 1.0 & -1.0\\\\-1.0 & 1.0 & -1.0 & 1.0 & -1.0 & 1.0\\\\1.0 & -1.0 & 1.0 & -1.0 & 1.0 & -1.0\\\\-1.0 & 1.0 & -1.0 & 1.0 & -1.0 & 1.0\\end{matrix}\\right]$"
      ],
      "text/plain": [
       "[[1.0, -1.0, 1.0, -1.0, 1.0, -1.0], [-1.0, 1.0, -1.0, 1.0, -1.0, 1.0], [1.0, -1.0, 1.0, -1.0, 1.0, -1.0], [-1.0, 1.0, -1.0, 1.0, -1.0, 1.0]]"
      ]
     },
     "execution_count": 28,
     "metadata": {},
     "output_type": "execute_result"
    }
   ],
   "source": [
    "sym.sympify(mat)"
   ]
  },
  {
   "cell_type": "code",
   "execution_count": 45,
   "id": "c853458b",
   "metadata": {},
   "outputs": [
    {
     "data": {
      "text/latex": [
       "$\\displaystyle \\left[\\begin{matrix}8.0 & 4.0 & 0.0\\\\10.0 & 5.0 & 0.0\\\\12.0 & 6.0 & 0.0\\end{matrix}\\right]$"
      ],
      "text/plain": [
       "[[8.0, 4.0, 0.0], [10.0, 5.0, 0.0], [12.0, 6.0, 0.0]]"
      ]
     },
     "execution_count": 45,
     "metadata": {},
     "output_type": "execute_result"
    }
   ],
   "source": [
    "x,y = sym.symbols(\"x,y\")\n",
    "\n",
    "expr = (4+x)*(2-y)\n",
    "\n",
    "mat = np.zeros([3,3])\n",
    "\n",
    "for col in range(0,3):\n",
    "    for row in range(0,3):\n",
    "        value = expr.subs({x:row,y:col})\n",
    "        mat[row,col] = value\n",
    "sym.sympify(mat)"
   ]
  },
  {
   "cell_type": "code",
   "execution_count": 49,
   "id": "13d937e6",
   "metadata": {},
   "outputs": [
    {
     "data": {
      "text/latex": [
       "$\\displaystyle \\left[\\begin{matrix}1 & 2 & 3 & 4 & 5 & 6 & 7 & 8 & 9 & 10\\\\11 & 12 & 13 & 14 & 15 & 16 & 17 & 18 & 19 & 20\\\\21 & 22 & 23 & 24 & 25 & 26 & 27 & 28 & 29 & 30\\\\31 & 32 & 33 & 34 & 35 & 36 & 37 & 38 & 39 & 40\\\\41 & 42 & 43 & 44 & 45 & 46 & 47 & 48 & 49 & 50\\\\51 & 52 & 53 & 54 & 55 & 56 & 57 & 58 & 59 & 60\\\\61 & 62 & 63 & 64 & 65 & 66 & 67 & 68 & 69 & 70\\\\71 & 72 & 73 & 74 & 75 & 76 & 77 & 78 & 79 & 80\\\\81 & 82 & 83 & 84 & 85 & 86 & 87 & 88 & 89 & 90\\\\91 & 92 & 93 & 94 & 95 & 96 & 97 & 98 & 99 & 100\\end{matrix}\\right]$"
      ],
      "text/plain": [
       "[[1, 2, 3, 4, 5, 6, 7, 8, 9, 10], [11, 12, 13, 14, 15, 16, 17, 18, 19, 20], [21, 22, 23, 24, 25, 26, 27, 28, 29, 30], [31, 32, 33, 34, 35, 36, 37, 38, 39, 40], [41, 42, 43, 44, 45, 46, 47, 48, 49, 50], [51, 52, 53, 54, 55, 56, 57, 58, 59, 60], [61, 62, 63, 64, 65, 66, 67, 68, 69, 70], [71, 72, 73, 74, 75, 76, 77, 78, 79, 80], [81, 82, 83, 84, 85, 86, 87, 88, 89, 90], [91, 92, 93, 94, 95, 96, 97, 98, 99, 100]]"
      ]
     },
     "execution_count": 49,
     "metadata": {},
     "output_type": "execute_result"
    }
   ],
   "source": [
    "sym.sympify(np.arange(1,101).reshape(10,10))"
   ]
  },
  {
   "cell_type": "code",
   "execution_count": null,
   "id": "0a6b7715",
   "metadata": {},
   "outputs": [],
   "source": [
    "x,y = sym.symbols(\"x,y\")\n",
    "\n",
    "expr = (4+x)*(2-y)\n",
    "\n",
    "mat = np.zeros([10,10])\n",
    "\n",
    "for col in range(0,10):\n",
    "    for row in range(0,10):\n",
    "        value = expr.subs({x:row,y:col})\n",
    "        mat[row,col] = value\n",
    "sym.sympify(mat)"
   ]
  },
  {
   "cell_type": "code",
   "execution_count": 88,
   "id": "59d5a557",
   "metadata": {},
   "outputs": [
    {
     "data": {
      "text/latex": [
       "$\\displaystyle \\left[\\begin{matrix}1 & 2 & 3 & 4 & 5 & 6 & 7 & 8 & 9 & 10\\\\2 & 4 & 6 & 8 & 10 & 12 & 14 & 16 & 18 & 20\\\\3 & 6 & 9 & 12 & 15 & 18 & 21 & 24 & 27 & 30\\\\4 & 8 & 12 & 16 & 20 & 24 & 28 & 32 & 36 & 40\\\\5 & 10 & 15 & 20 & 25 & 30 & 35 & 40 & 45 & 50\\\\6 & 12 & 18 & 24 & 30 & 36 & 42 & 48 & 54 & 60\\\\7 & 14 & 21 & 28 & 35 & 42 & 49 & 56 & 63 & 70\\\\8 & 16 & 24 & 32 & 40 & 48 & 56 & 64 & 72 & 80\\\\9 & 18 & 27 & 36 & 45 & 54 & 63 & 72 & 81 & 90\\\\10 & 20 & 30 & 40 & 50 & 60 & 70 & 80 & 90 & 100\\end{matrix}\\right]$"
      ],
      "text/plain": [
       "[[1, 2, 3, 4, 5, 6, 7, 8, 9, 10], [2, 4, 6, 8, 10, 12, 14, 16, 18, 20], [3, 6, 9, 12, 15, 18, 21, 24, 27, 30], [4, 8, 12, 16, 20, 24, 28, 32, 36, 40], [5, 10, 15, 20, 25, 30, 35, 40, 45, 50], [6, 12, 18, 24, 30, 36, 42, 48, 54, 60], [7, 14, 21, 28, 35, 42, 49, 56, 63, 70], [8, 16, 24, 32, 40, 48, 56, 64, 72, 80], [9, 18, 27, 36, 45, 54, 63, 72, 81, 90], [10, 20, 30, 40, 50, 60, 70, 80, 90, 100]]"
      ]
     },
     "execution_count": 88,
     "metadata": {},
     "output_type": "execute_result"
    }
   ],
   "source": [
    "origin = np.arange(1,11).reshape(1,10).T\n",
    "y = np.arange(1,11).reshape(1,10).T\n",
    "\n",
    "for n in range(2,11):\n",
    "    \n",
    "    y = np.concatenate((y,origin*n),axis=1)\n",
    "sym.sympify(y)"
   ]
  },
  {
   "cell_type": "code",
   "execution_count": 125,
   "id": "c1e7709e",
   "metadata": {},
   "outputs": [
    {
     "data": {
      "text/latex": [
       "$\\displaystyle \\left[\\begin{matrix}1 & 2 & 3 & 4 & 5 & 6 & 7 & 8 & 9 & 10\\\\2 & 4 & 6 & 8 & 10 & 12 & 14 & 16 & 18 & 20\\\\3 & 6 & 9 & 12 & 15 & 18 & 21 & 24 & 27 & 30\\\\4 & 8 & 12 & 16 & 20 & 24 & 28 & 32 & 36 & 40\\\\5 & 10 & 15 & 20 & 25 & 30 & 35 & 40 & 45 & 50\\\\6 & 12 & 18 & 24 & 30 & 36 & 42 & 48 & 54 & 60\\\\7 & 14 & 21 & 28 & 35 & 42 & 49 & 56 & 63 & 70\\\\8 & 16 & 24 & 32 & 40 & 48 & 56 & 64 & 72 & 80\\\\9 & 18 & 27 & 36 & 45 & 54 & 63 & 72 & 81 & 90\\\\10 & 20 & 30 & 40 & 50 & 60 & 70 & 80 & 90 & 100\\end{matrix}\\right]$"
      ],
      "text/plain": [
       "[[1, 2, 3, 4, 5, 6, 7, 8, 9, 10], [2, 4, 6, 8, 10, 12, 14, 16, 18, 20], [3, 6, 9, 12, 15, 18, 21, 24, 27, 30], [4, 8, 12, 16, 20, 24, 28, 32, 36, 40], [5, 10, 15, 20, 25, 30, 35, 40, 45, 50], [6, 12, 18, 24, 30, 36, 42, 48, 54, 60], [7, 14, 21, 28, 35, 42, 49, 56, 63, 70], [8, 16, 24, 32, 40, 48, 56, 64, 72, 80], [9, 18, 27, 36, 45, 54, 63, 72, 81, 90], [10, 20, 30, 40, 50, 60, 70, 80, 90, 100]]"
      ]
     },
     "metadata": {},
     "output_type": "display_data"
    }
   ],
   "source": [
    "nums = range(0,10)\n",
    "\n",
    "matmult = np.zeros((len(nums),len(nums)),dtype=\"int\")\n",
    "\n",
    "for row in nums:\n",
    "    for col in nums:\n",
    "        matmult[row,col] = (row+1) *(col+1)\n",
    "        \n",
    "display(sym.sympify(matmult))"
   ]
  },
  {
   "cell_type": "markdown",
   "id": "626a253b",
   "metadata": {},
   "source": [
    "**<font color=\"red\">Associative, commutative and distributive properties.</font>**"
   ]
  },
  {
   "cell_type": "code",
   "execution_count": 118,
   "id": "5f13e87a",
   "metadata": {},
   "outputs": [
    {
     "data": {
      "text/latex": [
       "$\\displaystyle 0$"
      ],
      "text/plain": [
       "0"
      ]
     },
     "execution_count": 118,
     "metadata": {},
     "output_type": "execute_result"
    }
   ],
   "source": [
    "# Associative\n",
    "\n",
    "x,y = sym.symbols(\"x,y\")\n",
    "\n",
    "expr1 = x*(4*y)\n",
    "expr2 = (x*4)*y\n",
    "\n",
    "\n",
    "expr1 - expr2"
   ]
  },
  {
   "cell_type": "code",
   "execution_count": 120,
   "id": "d8d138dd",
   "metadata": {},
   "outputs": [
    {
     "name": "stdout",
     "output_type": "stream",
     "text": [
      "24\n",
      "24\n",
      "24\n"
     ]
    }
   ],
   "source": [
    "# commutative\n",
    "\n",
    "e1 = 4*x*y\n",
    "e2 = x*4*y\n",
    "e3 = y*x*4\n",
    "\n",
    "print(e1.subs({x:3,y:2}))\n",
    "print(e2.subs({x:3,y:2}))\n",
    "print(e2.subs({x:3,y:2}))"
   ]
  },
  {
   "cell_type": "code",
   "execution_count": 123,
   "id": "59508808",
   "metadata": {},
   "outputs": [
    {
     "data": {
      "text/latex": [
       "$\\displaystyle a c + a d + b c + b d$"
      ],
      "text/plain": [
       "a*c + a*d + b*c + b*d"
      ]
     },
     "execution_count": 123,
     "metadata": {},
     "output_type": "execute_result"
    }
   ],
   "source": [
    "# distributive\n",
    "a,b,c,d = sym.symbols('a,b,c,d')\n",
    "\n",
    "expr = (a+b)*(c+d)\n",
    "\n",
    "sym.expand(expr)"
   ]
  },
  {
   "cell_type": "code",
   "execution_count": 149,
   "id": "24323bd8",
   "metadata": {},
   "outputs": [
    {
     "data": {
      "text/latex": [
       "$\\displaystyle \\frac{\\left(3 w^{6} - \\left(w^{3} \\left(w - 4\\right) - w - 1\\right)^{3}\\right) \\left(y + z\\right)}{w^{6}}$"
      ],
      "text/plain": [
       "(3*w**6 - (w**3*(w - 4) - w - 1)**3)*(y + z)/w**6"
      ]
     },
     "execution_count": 149,
     "metadata": {},
     "output_type": "execute_result"
    }
   ],
   "source": [
    "x,y,z,w = sym.symbols('x,y,z,w')\n",
    "\n",
    "f1 = x*(y+z)\n",
    "f2 = 3/x + x**2\n",
    "f3 = w*(4-w) + (1/w**2) * (1+w)\n",
    "#f3.expand()\n",
    "result = f1*f2\n",
    "result.simplify().subs(x, f3).simplify()"
   ]
  },
  {
   "cell_type": "markdown",
   "id": "17fbe229",
   "metadata": {},
   "source": [
    "**Using Lists**"
   ]
  },
  {
   "cell_type": "code",
   "execution_count": 150,
   "id": "c3feb323",
   "metadata": {},
   "outputs": [
    {
     "data": {
      "text/latex": [
       "$\\displaystyle x \\left(4 - 6 x\\right) + 3 x \\quad \\Longleftrightarrow \\quad - 6 x^{2} + 7 x$"
      ],
      "text/plain": [
       "<IPython.core.display.Math object>"
      ]
     },
     "metadata": {},
     "output_type": "display_data"
    },
    {
     "data": {
      "text/latex": [
       "$\\displaystyle - x \\left(\\frac{2}{x} + \\frac{4}{x^{2}}\\right) + \\frac{x + 4}{4 x} \\quad \\Longleftrightarrow \\quad - \\frac{7}{4} - \\frac{3}{x}$"
      ],
      "text/plain": [
       "<IPython.core.display.Math object>"
      ]
     },
     "metadata": {},
     "output_type": "display_data"
    },
    {
     "data": {
      "text/latex": [
       "$\\displaystyle \\frac{\\left(x - 3\\right) \\left(x + 3\\right)}{9} \\quad \\Longleftrightarrow \\quad \\frac{x^{2}}{9} - 1$"
      ],
      "text/plain": [
       "<IPython.core.display.Math object>"
      ]
     },
     "metadata": {},
     "output_type": "display_data"
    }
   ],
   "source": [
    "x = sym.symbols('x')\n",
    "\n",
    "e1 = 2*x + x*(4-6*x) + x\n",
    "e2 = -x * (2/x + 4/(x**2)) + (4+x)/(4*x)\n",
    "e3 = (x + 3)*(x-3)*x*(1/(9*x))\n",
    "\n",
    "# make a list of the expressions\n",
    "exprs = [e1,e2,e3]\n",
    "\n",
    "for i in range(0,3):\n",
    "    display(Math('%s \\\\quad \\\\Longleftrightarrow \\\\quad %s' %(sym.latex(exprs[i]),sym.latex(sym.expand(exprs[i])))))"
   ]
  },
  {
   "cell_type": "markdown",
   "id": "b5ae8526",
   "metadata": {},
   "source": [
    "**Greatest common denominator**"
   ]
  },
  {
   "cell_type": "code",
   "execution_count": 160,
   "id": "73597d94",
   "metadata": {},
   "outputs": [
    {
     "data": {
      "text/latex": [
       "$\\displaystyle \\frac{16}{88} = \\frac{2\\times 8}{11\\times 8}$"
      ],
      "text/plain": [
       "<IPython.core.display.Math object>"
      ]
     },
     "metadata": {},
     "output_type": "display_data"
    },
    {
     "data": {
      "text/plain": [
       "8"
      ]
     },
     "metadata": {},
     "output_type": "display_data"
    }
   ],
   "source": [
    "# application\n",
    "\n",
    "a = 16\n",
    "b = 88\n",
    "\n",
    "fact = sym.gcd(a,b)\n",
    "display(Math(\"\\\\frac{%g}{%g} = \\\\frac{%g\\\\times %g}{%g\\\\times %g}\" % (a,b,a/fact,fact,b/fact,fact)))\n",
    "display(fact)"
   ]
  },
  {
   "cell_type": "code",
   "execution_count": 163,
   "id": "93d9b41e",
   "metadata": {},
   "outputs": [
    {
     "data": {
      "text/plain": [
       "True"
      ]
     },
     "execution_count": 163,
     "metadata": {},
     "output_type": "execute_result"
    }
   ],
   "source": [
    "a,b,c = sym.symbols(\"a,b,c\")\n",
    "\n",
    "sym.gcd(c*a,c*b) == c * sym.gcd(a,b)"
   ]
  },
  {
   "cell_type": "code",
   "execution_count": 169,
   "id": "4da2ad2a",
   "metadata": {},
   "outputs": [
    {
     "data": {
      "text/latex": [
       "$\\displaystyle \\left[\\begin{array}{}1 & 1 & 1 & 1 & 1 & 1 & 1 & 1 & 1 & 1 & 1 & 1 & 1 & 1 & 1\\\\1 & 2 & 1 & 2 & 1 & 2 & 1 & 2 & 1 & 2 & 1 & 2 & 1 & 2 & 1\\\\1 & 1 & 3 & 1 & 1 & 3 & 1 & 1 & 3 & 1 & 1 & 3 & 1 & 1 & 3\\\\1 & 2 & 1 & 4 & 1 & 2 & 1 & 4 & 1 & 2 & 1 & 4 & 1 & 2 & 1\\\\1 & 1 & 1 & 1 & 5 & 1 & 1 & 1 & 1 & 5 & 1 & 1 & 1 & 1 & 5\\\\1 & 2 & 3 & 2 & 1 & 6 & 1 & 2 & 3 & 2 & 1 & 6 & 1 & 2 & 3\\\\1 & 1 & 1 & 1 & 1 & 1 & 7 & 1 & 1 & 1 & 1 & 1 & 1 & 7 & 1\\\\1 & 2 & 1 & 4 & 1 & 2 & 1 & 8 & 1 & 2 & 1 & 4 & 1 & 2 & 1\\\\1 & 1 & 3 & 1 & 1 & 3 & 1 & 1 & 9 & 1 & 1 & 3 & 1 & 1 & 3\\\\1 & 2 & 1 & 2 & 5 & 2 & 1 & 2 & 1 & 10 & 1 & 2 & 1 & 2 & 5\\end{array}\\right]$"
      ],
      "text/plain": [
       "[[1, 1, 1, 1, 1, 1, 1, 1, 1, 1, 1, 1, 1, 1, 1], [1, 2, 1, 2, 1, 2, 1, 2, 1, 2, 1, 2, 1, 2, 1], [1, 1, 3, 1, 1, 3, 1, 1, 3, 1, 1, 3, 1, 1, 3], [1, 2, 1, 4, 1, 2, 1, 4, 1, 2, 1, 4, 1, 2, 1], [1, 1, 1, 1, 5, 1, 1, 1, 1, 5, 1, 1, 1, 1, 5], [1, 2, 3, 2, 1, 6, 1, 2, 3, 2, 1, 6, 1, 2, 3], [1, 1, 1, 1, 1, 1, 7, 1, 1, 1, 1, 1, 1, 7, 1], [1, 2, 1, 4, 1, 2, 1, 8, 1, 2, 1, 4, 1, 2, 1], [1, 1, 3, 1, 1, 3, 1, 1, 9, 1, 1, 3, 1, 1, 3], [1, 2, 1, 2, 5, 2, 1, 2, 1, 10, 1, 2, 1, 2, 5]]"
      ]
     },
     "execution_count": 169,
     "metadata": {},
     "output_type": "execute_result"
    }
   ],
   "source": [
    "mat = np.ones(shape=(10,15), dtype=\"int\") * 99\n",
    "\n",
    "\n",
    "for row in range(10):\n",
    "    for col in range(15):\n",
    "        mat[row,col] = sym.gcd(row+1, col+1)\n",
    "        \n",
    "sym.sympify(mat)"
   ]
  },
  {
   "cell_type": "markdown",
   "id": "75be7124",
   "metadata": {},
   "source": [
    "**Using Dictionaries with sympy**"
   ]
  },
  {
   "cell_type": "code",
   "execution_count": 171,
   "id": "e1b37657",
   "metadata": {},
   "outputs": [
    {
     "data": {
      "text/plain": [
       "{'eqsWithX': [x/3 - 6, 2*x + 3], 'eqsWithY': [3*y/4, y - 5]}"
      ]
     },
     "execution_count": 171,
     "metadata": {},
     "output_type": "execute_result"
    }
   ],
   "source": [
    "# make a dictionary of equations\n",
    "x,y = sym.symbols('x,y')\n",
    "\n",
    "D = dict(eqsWithX=[x/3-6,x*2+3],eqsWithY=[y-y/4,y-5])\n",
    "D.keys()\n",
    "\n",
    "Dkeys = list(D)\n",
    "\n",
    "D\n",
    "# access individual keys\n",
    "#D[Dkeys[0]]"
   ]
  },
  {
   "cell_type": "code",
   "execution_count": 172,
   "id": "9b9f18b8",
   "metadata": {},
   "outputs": [
    {
     "name": "stdout",
     "output_type": "stream",
     "text": [
      "Equations solving for X:\n"
     ]
    },
    {
     "data": {
      "text/latex": [
       "$\\displaystyle \\quad\\quad 4 x - 6 = 0\\quad\\quad \\Rightarrow\\quad\\quad X = \\left[ \\frac{3}{2}\\right]$"
      ],
      "text/plain": [
       "<IPython.core.display.Math object>"
      ]
     },
     "metadata": {},
     "output_type": "display_data"
    },
    {
     "data": {
      "text/latex": [
       "$\\displaystyle \\quad\\quad x^{2} - 9 = 0\\quad\\quad \\Rightarrow\\quad\\quad X = \\left[ -3, \\  3\\right]$"
      ],
      "text/plain": [
       "<IPython.core.display.Math object>"
      ]
     },
     "metadata": {},
     "output_type": "display_data"
    },
    {
     "name": "stdout",
     "output_type": "stream",
     "text": [
      "Equations solving for Y:\n"
     ]
    },
    {
     "data": {
      "text/latex": [
       "$\\displaystyle \\quad\\quad \\sin{\\left(y \\right)} = 0\\quad\\quad \\Rightarrow\\quad\\quad Y = \\left[ 0, \\  \\pi\\right]$"
      ],
      "text/plain": [
       "<IPython.core.display.Math object>"
      ]
     },
     "metadata": {},
     "output_type": "display_data"
    }
   ],
   "source": [
    "# let's make a new dictionary\n",
    "x,y = sym.symbols('x,y')\n",
    "\n",
    "# count number of x's and y's in the equation\n",
    "D = dict(eqsWithX=[4*x-6,x**2-9],eqsWithY=[sym.sin(y)])\n",
    "\n",
    "# solve them in a loop\n",
    "for keyi in D:\n",
    "    \n",
    "    print('Equations solving for ' + keyi[-1] + ':')\n",
    "    \n",
    "    for i in D[keyi]:\n",
    "        \n",
    "        fullEQ     = sym.latex(sym.sympify(i)) + ' = 0'\n",
    "        middlepart = '\\\\quad\\\\quad \\\\Rightarrow\\\\quad\\\\quad ' + keyi[-1] + ' = '\n",
    "        soln       = sym.latex(sym.solve(i))\n",
    "        \n",
    "        display(Math( '\\\\quad\\\\quad ' + fullEQ + middlepart + soln ))"
   ]
  },
  {
   "cell_type": "markdown",
   "id": "4ebe1928",
   "metadata": {},
   "source": [
    "**Prime Factorization**"
   ]
  },
  {
   "cell_type": "code",
   "execution_count": 175,
   "id": "6ebbcfcf",
   "metadata": {},
   "outputs": [
    {
     "data": {
      "text/plain": [
       "[2, 3]"
      ]
     },
     "execution_count": 175,
     "metadata": {},
     "output_type": "execute_result"
    }
   ],
   "source": [
    "number = 48\n",
    "\n",
    "fact_dic = sym.factorint(number)\n",
    "list(fact_dic.keys())"
   ]
  },
  {
   "cell_type": "code",
   "execution_count": 198,
   "id": "2b334396",
   "metadata": {},
   "outputs": [
    {
     "data": {
      "text/plain": [
       "dict_keys([47])"
      ]
     },
     "execution_count": 198,
     "metadata": {},
     "output_type": "execute_result"
    }
   ],
   "source": [
    "sym.factorint(47).keys()"
   ]
  },
  {
   "cell_type": "code",
   "execution_count": 193,
   "id": "a6ca307a",
   "metadata": {},
   "outputs": [
    {
     "data": {
      "text/plain": [
       "1"
      ]
     },
     "execution_count": 193,
     "metadata": {},
     "output_type": "execute_result"
    }
   ],
   "source": [
    "list(num_facts.values())[0]"
   ]
  },
  {
   "cell_type": "code",
   "execution_count": 201,
   "id": "c3a5e79f",
   "metadata": {
    "scrolled": true
   },
   "outputs": [
    {
     "name": "stdout",
     "output_type": "stream",
     "text": [
      "2 is a prime number\n",
      "3 is a prime number\n",
      "4 is a composite number with prime factors [2]\n",
      "5 is a prime number\n",
      "6 is a composite number with prime factors [2, 3]\n",
      "7 is a prime number\n",
      "8 is a composite number with prime factors [2]\n",
      "9 is a composite number with prime factors [3]\n",
      "10 is a composite number with prime factors [2, 5]\n",
      "11 is a prime number\n",
      "12 is a composite number with prime factors [2, 3]\n",
      "13 is a prime number\n",
      "14 is a composite number with prime factors [2, 7]\n"
     ]
    }
   ],
   "source": [
    "for n in range(2,15):\n",
    "    \n",
    "    num_facts = sym.factorint(n)\n",
    "    \n",
    "    if len(list(num_facts)) == 1 and list(num_facts.values())[0] == 1:\n",
    "        print(f\"{n} is a prime number\")\n",
    "        \n",
    "    else:\n",
    "        print(f\"{n} is a composite number with prime factors {list(num_facts.keys())}\")"
   ]
  },
  {
   "cell_type": "markdown",
   "id": "12a6c960",
   "metadata": {},
   "source": [
    "**Inequalities**"
   ]
  },
  {
   "cell_type": "code",
   "execution_count": 206,
   "id": "92ba7456",
   "metadata": {},
   "outputs": [
    {
     "data": {
      "text/latex": [
       "$\\displaystyle 2 < x \\wedge x < \\infty$"
      ],
      "text/plain": [
       "(2 < x) & (x < oo)"
      ]
     },
     "execution_count": 206,
     "metadata": {},
     "output_type": "execute_result"
    }
   ],
   "source": [
    "x = sym.symbols(\"x\")\n",
    "\n",
    "expr = 4*x > 8\n",
    "\n",
    "sym.solve(expr)  # X must be greater than 2 and less than infinity, thats the answer for expr to be True. \n",
    "\n",
    "sym.solve(expr)\n",
    "# ∧ symbol is conjugntion (and)."
   ]
  },
  {
   "cell_type": "code",
   "execution_count": 213,
   "id": "88f3a16f",
   "metadata": {},
   "outputs": [
    {
     "data": {
      "text/latex": [
       "$\\displaystyle \\left(-\\infty < x \\wedge x < -3\\right) \\vee \\left(1 < x \\wedge x < \\infty\\right)$"
      ],
      "text/plain": [
       "((-oo < x) & (x < -3)) | ((1 < x) & (x < oo))"
      ]
     },
     "execution_count": 213,
     "metadata": {},
     "output_type": "execute_result"
    }
   ],
   "source": [
    "x = sym.symbols(\"x\")\n",
    "\n",
    "expr = (x-1)*(x+3) > 0\n",
    "\n",
    "sym.solve(expr)\n",
    "# ∨ symbol is (or)."
   ]
  },
  {
   "cell_type": "code",
   "execution_count": 211,
   "id": "1eba7651",
   "metadata": {},
   "outputs": [
    {
     "data": {
      "text/latex": [
       "$\\displaystyle \\frac{4}{3} - \\frac{x}{6} \\leq \\frac{5 x}{4} - \\frac{1}{2}$"
      ],
      "text/plain": [
       "4/3 - x/6 <= 5*x/4 - 1/2"
      ]
     },
     "metadata": {},
     "output_type": "display_data"
    },
    {
     "data": {
      "text/latex": [
       "$\\displaystyle x \\geq \\frac{22}{17}$"
      ],
      "text/plain": [
       "x >= 22/17"
      ]
     },
     "metadata": {},
     "output_type": "display_data"
    },
    {
     "data": {
      "text/latex": [
       "$\\displaystyle \\frac{22}{17} \\leq x \\wedge x < \\infty$"
      ],
      "text/plain": [
       "(22/17 <= x) & (x < oo)"
      ]
     },
     "metadata": {},
     "output_type": "display_data"
    }
   ],
   "source": [
    "x = sym.symbols(\"x\")\n",
    "\n",
    "expr = 3*x/2 + (4-5*x)/3 <= 2 - 5*(2-x)/4\n",
    "\n",
    "display(expr)\n",
    "\n",
    "display(sym.simplify(expr))\n",
    "\n",
    "display(sym.solve(expr))"
   ]
  },
  {
   "cell_type": "markdown",
   "id": "a2322985",
   "metadata": {},
   "source": [
    "**Polynomials**"
   ]
  },
  {
   "cell_type": "code",
   "execution_count": 226,
   "id": "d2dbef21",
   "metadata": {},
   "outputs": [
    {
     "name": "stdout",
     "output_type": "stream",
     "text": [
      "P1:\n"
     ]
    },
    {
     "data": {
      "text/latex": [
       "$\\displaystyle 2 x^{3} + x^{2} - x$"
      ],
      "text/plain": [
       "2*x**3 + x**2 - x"
      ]
     },
     "metadata": {},
     "output_type": "display_data"
    },
    {
     "name": "stdout",
     "output_type": "stream",
     "text": [
      "P2:\n"
     ]
    },
    {
     "data": {
      "text/latex": [
       "$\\displaystyle - x^{4} + x^{3} - 4 x^{2}$"
      ],
      "text/plain": [
       "-x**4 + x**3 - 4*x**2"
      ]
     },
     "metadata": {},
     "output_type": "display_data"
    },
    {
     "name": "stdout",
     "output_type": "stream",
     "text": [
      "P1 + P2:\n"
     ]
    },
    {
     "data": {
      "text/latex": [
       "$\\displaystyle - x^{4} + 3 x^{3} - 3 x^{2} - x$"
      ],
      "text/plain": [
       "-x**4 + 3*x**3 - 3*x**2 - x"
      ]
     },
     "metadata": {},
     "output_type": "display_data"
    }
   ],
   "source": [
    "x = sym.symbols(\"x\")\n",
    "\n",
    "p1 = 2*x**3 + x**2 - x\n",
    "p2 = x**3 - x**4 - 4*x**2\n",
    "\n",
    "print(\"P1:\")\n",
    "display(p1)\n",
    "print(\"P2:\")\n",
    "display(p2)\n",
    "\n",
    "print(\"P1 + P2:\")\n",
    "display(p1+p2)\n",
    "    \n",
    "    "
   ]
  },
  {
   "cell_type": "code",
   "execution_count": 229,
   "id": "0e4ccbd1",
   "metadata": {},
   "outputs": [
    {
     "data": {
      "text/latex": [
       "$\\displaystyle \\operatorname{Poly}{\\left( 2 x^{3} + x^{2} - x, x, domain=\\mathbb{Z} \\right)}$"
      ],
      "text/plain": [
       "Poly(2*x**3 + x**2 - x, x, domain='ZZ')"
      ]
     },
     "metadata": {},
     "output_type": "display_data"
    },
    {
     "data": {
      "text/plain": [
       "[2, 1, -1]"
      ]
     },
     "execution_count": 229,
     "metadata": {},
     "output_type": "execute_result"
    }
   ],
   "source": [
    "p1 = sym.Poly(2*x**3 + x**2 - x)\n",
    "display(p1)\n",
    "\n",
    "p1.eval(0) , p1.coeffs()"
   ]
  },
  {
   "cell_type": "code",
   "execution_count": 286,
   "id": "297033a6",
   "metadata": {},
   "outputs": [
    {
     "data": {
      "text/latex": [
       "$\\displaystyle \\mathtt{\\text{The degree is even for equation }}x^{2} + 2 x\\mathtt{\\text{: The result is 3}}$"
      ],
      "text/plain": [
       "<IPython.core.display.Math object>"
      ]
     },
     "metadata": {},
     "output_type": "display_data"
    },
    {
     "data": {
      "text/latex": [
       "$\\displaystyle \\mathtt{\\text{The degree is odd for equation }}- x^{3} + 4 x\\mathtt{\\text{: The result is 2}}$"
      ],
      "text/plain": [
       "<IPython.core.display.Math object>"
      ]
     },
     "metadata": {},
     "output_type": "display_data"
    },
    {
     "data": {
      "text/latex": [
       "$\\displaystyle \\mathtt{\\text{The degree is odd for equation }}x^{5} - x^{4} + \\frac{x}{4} + 4\\mathtt{\\text{: The result is 4}}$"
      ],
      "text/plain": [
       "<IPython.core.display.Math object>"
      ]
     },
     "metadata": {},
     "output_type": "display_data"
    }
   ],
   "source": [
    "x = sym.symbols(\"x\")\n",
    "\n",
    "eq1 = sym.Poly(x**2 + 2*x)\n",
    "eq2 = sym.Poly(-x**3 + 4*x)\n",
    "eq3 = sym.Poly(x**5 - x**4 + x/4 + 4)\n",
    "\n",
    "\n",
    "eqs = [eq1,eq2,eq3]\n",
    "\n",
    "for n , v in enumerate(eqs):\n",
    "    \n",
    "    if v.degree() % 2 == 0:\n",
    "        display(Math(sym.latex(f\"The degree is even for equation \") + sym.latex(v.as_expr()) + sym.latex(\n",
    "            f\": The result is {sum(v.coeffs())}\")))\n",
    "        \n",
    "    else: \n",
    "        display(Math(sym.latex(f\"The degree is odd for equation \") + sym.latex(v.as_expr()) + sym.latex(\n",
    "            f\": The result is {len(v.coeffs())}\")))\n",
    "\n",
    "\n",
    "\n",
    "\n"
   ]
  },
  {
   "cell_type": "code",
   "execution_count": 14,
   "id": "29ba55cb",
   "metadata": {},
   "outputs": [
    {
     "data": {
      "text/latex": [
       "$\\displaystyle x \\left(- 3 x^{5} y + x^{5} - 6 x y^{2} + 2 x y - 3 y^{3} + y^{2}\\right)$"
      ],
      "text/plain": [
       "x*(-3*x**5*y + x**5 - 6*x*y**2 + 2*x*y - 3*y**3 + y**2)"
      ]
     },
     "metadata": {},
     "output_type": "display_data"
    },
    {
     "data": {
      "text/latex": [
       "$\\displaystyle - 3 x^{6} y + x^{6} - 6 x^{2} y^{2} + 2 x^{2} y - 3 x y^{3} + x y^{2}$"
      ],
      "text/plain": [
       "-3*x**6*y + x**6 - 6*x**2*y**2 + 2*x**2*y - 3*x*y**3 + x*y**2"
      ]
     },
     "metadata": {},
     "output_type": "display_data"
    }
   ],
   "source": [
    "x , y = sym.symbols(\"x,y\")\n",
    "\n",
    "eq = sym.Poly((x**5 + 2*x*y + y**2) * (x-3*x*y))\n",
    "\n",
    "display(eq.as_expr().simplify())\n",
    "display(sym.expand(eq.as_expr()))"
   ]
  },
  {
   "cell_type": "code",
   "execution_count": 28,
   "id": "47b3d0fe",
   "metadata": {},
   "outputs": [
    {
     "data": {
      "text/latex": [
       "$\\displaystyle \\text{True}$"
      ],
      "text/plain": [
       "True"
      ]
     },
     "execution_count": 28,
     "metadata": {},
     "output_type": "execute_result"
    }
   ],
   "source": [
    "x , y = sym.symbols(\"x,y\")\n",
    "\n",
    "f_eq = 4*x**4 - 3*x**2 + x*y**2 - 9*y**3\n",
    "g_eq = -x**3 + 6*x**2*y + 0.8*y**3\n",
    "\n",
    "mult_before = f_eq * g_eq\n",
    "mult_before = mult_before.subs({x:5,y:-2})\n",
    "\n",
    "\n",
    "mult_after = f_eq.subs({x:5,y:-2}) * g_eq.subs({x:5,y:-2})\n",
    "\n",
    "\n",
    "#They are equal\n",
    "sym.Eq(mult_after, mult_before)"
   ]
  },
  {
   "cell_type": "markdown",
   "id": "abb2c0c9",
   "metadata": {},
   "source": [
    "**Division**"
   ]
  },
  {
   "cell_type": "code",
   "execution_count": 12,
   "id": "c6d52766",
   "metadata": {},
   "outputs": [
    {
     "data": {
      "text/latex": [
       "$\\displaystyle \\frac{4 x^{5} - x}{2 x^{3} - x} = {\\frac{4 x^{5} - x}{2 x^{3} - x}}$"
      ],
      "text/plain": [
       "<IPython.core.display.Math object>"
      ]
     },
     "metadata": {},
     "output_type": "display_data"
    },
    {
     "data": {
      "text/latex": [
       "$\\displaystyle \\frac{4 x^{5} - x}{2 x^{3} - x} = {2 x^{2} + 1}$"
      ],
      "text/plain": [
       "<IPython.core.display.Math object>"
      ]
     },
     "metadata": {},
     "output_type": "display_data"
    }
   ],
   "source": [
    "x , y = sym.symbols(\"x,y\")\n",
    "\n",
    "p1 = 4*x**5 - x\n",
    "p2 = 2*x**3 - x\n",
    "\n",
    "\n",
    "\n",
    "display(Math(\"\\\\frac{%s}{%s} = {%s}\" %(sym.latex(p1),sym.latex(p2), sym.latex(p1/p2))))\n",
    "display(Math(\"\\\\frac{%s}{%s} = {%s}\" %(sym.latex(p1),sym.latex(p2), sym.latex(sym.simplify(p1/p2)))))"
   ]
  },
  {
   "cell_type": "code",
   "execution_count": 3,
   "id": "5fafc82a",
   "metadata": {},
   "outputs": [],
   "source": [
    "x , y = sym.symbols(\"x,y\")\n",
    "\n",
    "fx = (x**6 + 2*x**4 + 6*x - y) / (x**3+3)"
   ]
  },
  {
   "cell_type": "code",
   "execution_count": 11,
   "id": "a3b6d276",
   "metadata": {},
   "outputs": [
    {
     "data": {
      "text/latex": [
       "$\\displaystyle \\frac{x^{6} + 2 x^{4} + 6 x - y}{x^{3} + 3}$"
      ],
      "text/plain": [
       "(x**6 + 2*x**4 + 6*x - y)/(x**3 + 3)"
      ]
     },
     "metadata": {},
     "output_type": "display_data"
    },
    {
     "name": "stdout",
     "output_type": "stream",
     "text": [
      "When y is 9,The denominator is cancelled, returning the following expression:\n"
     ]
    },
    {
     "data": {
      "text/latex": [
       "$\\displaystyle x^{3} + 2 x - 3$"
      ],
      "text/plain": [
       "x**3 + 2*x - 3"
      ]
     },
     "metadata": {},
     "output_type": "display_data"
    }
   ],
   "source": [
    "for n in range(5,16):    \n",
    "    x = sym.fraction(fx.subs({y:n}).simplify())\n",
    "    if x[1] == 1:\n",
    "        display(fx)\n",
    "        print(f\"When y is {n}, The denominator is cancelled, returning the following expression:\")\n",
    "        display(x[0])"
   ]
  },
  {
   "cell_type": "code",
   "execution_count": 36,
   "id": "6a6baf39",
   "metadata": {},
   "outputs": [
    {
     "data": {
      "text/plain": [
       "(x**6 + 2*x**4 + 6*x - 9, 1)"
      ]
     },
     "execution_count": 36,
     "metadata": {},
     "output_type": "execute_result"
    }
   ],
   "source": [
    "sym.fraction(fx.subs({y:9}))"
   ]
  },
  {
   "cell_type": "code",
   "execution_count": 48,
   "id": "92ccddb0",
   "metadata": {},
   "outputs": [
    {
     "data": {
      "text/plain": [
       "(x**6 + 2*x**4 + 6*x - 8, x**3 + 3)"
      ]
     },
     "execution_count": 48,
     "metadata": {},
     "output_type": "execute_result"
    }
   ],
   "source": [
    "sym.fraction(fx.subs({y:8}).simplify())"
   ]
  },
  {
   "cell_type": "markdown",
   "id": "868d9791",
   "metadata": {},
   "source": [
    "Factoring Polynomials"
   ]
  },
  {
   "cell_type": "code",
   "execution_count": 15,
   "id": "44a9ed88",
   "metadata": {},
   "outputs": [
    {
     "data": {
      "text/latex": [
       "$\\displaystyle \\left(x + 1\\right) \\left(x + 3\\right)$"
      ],
      "text/plain": [
       "(x + 1)*(x + 3)"
      ]
     },
     "execution_count": 15,
     "metadata": {},
     "output_type": "execute_result"
    }
   ],
   "source": [
    "x , y = sym.symbols(\"x,y\")\n",
    "\n",
    "p = x**2 + 4*x + 3\n",
    "p.factor()"
   ]
  },
  {
   "cell_type": "code",
   "execution_count": 16,
   "id": "416f8572",
   "metadata": {},
   "outputs": [
    {
     "data": {
      "text/latex": [
       "$\\displaystyle 2 x \\left(x^{2} y + x y + 2 x - 3 y + 3\\right)$"
      ],
      "text/plain": [
       "2*x*(x**2*y + x*y + 2*x - 3*y + 3)"
      ]
     },
     "execution_count": 16,
     "metadata": {},
     "output_type": "execute_result"
    }
   ],
   "source": [
    "expr = 2*x**3*y - 2*x**2 + 2*x**2*y + 6*x**2 - 6*x*y + 6*x\n",
    "expr.factor()"
   ]
  },
  {
   "cell_type": "code",
   "execution_count": 17,
   "id": "15f93dee",
   "metadata": {},
   "outputs": [],
   "source": [
    "x , y = sym.symbols(\"x,y\")\n",
    "\n",
    "f1 = x**2+4*x+3\n",
    "f2 = 2*y**2 - 1\n",
    "f3 = 3*y**2 + 12*y"
   ]
  },
  {
   "cell_type": "code",
   "execution_count": 42,
   "id": "4c9d4dae",
   "metadata": {},
   "outputs": [
    {
     "data": {
      "text/latex": [
       "$\\displaystyle x^{2} + 4 x + 3\\quad\\rightarrow\\quad\\left(x + 1\\right) \\left(x + 3\\right)$"
      ],
      "text/plain": [
       "<IPython.core.display.Math object>"
      ]
     },
     "metadata": {},
     "output_type": "display_data"
    },
    {
     "data": {
      "text/latex": [
       "$\\displaystyle 2 y^{2} - 1\\quad\\rightarrow\\quad \\mathtt{\\text{ Not Factorable!}}$"
      ],
      "text/plain": [
       "<IPython.core.display.Math object>"
      ]
     },
     "metadata": {},
     "output_type": "display_data"
    },
    {
     "data": {
      "text/latex": [
       "$\\displaystyle 3 y^{2} + 12 y\\quad\\rightarrow\\quad3 y \\left(y + 4\\right)$"
      ],
      "text/plain": [
       "<IPython.core.display.Math object>"
      ]
     },
     "metadata": {},
     "output_type": "display_data"
    }
   ],
   "source": [
    "func_list = [f1,f2,f3]\n",
    "\n",
    "for n , f in enumerate(func_list):\n",
    "    if f != f.factor():\n",
    "        display(Math(sym.latex(f) + \"\\\\quad\\\\rightarrow\\\\quad\" + sym.latex(f.factor())))\n",
    "        \n",
    "    else:\n",
    "        display(Math(sym.latex(f) + \"\\\\quad\\\\rightarrow\\\\quad \" + sym.latex(\" Not Factorable!\")))"
   ]
  },
  {
   "cell_type": "code",
   "execution_count": 41,
   "id": "534736e9",
   "metadata": {},
   "outputs": [
    {
     "data": {
      "text/plain": [
       "'\\\\mathtt{\\\\text{ }}'"
      ]
     },
     "execution_count": 41,
     "metadata": {},
     "output_type": "execute_result"
    }
   ],
   "source": [
    "sym.latex(\" \")"
   ]
  },
  {
   "cell_type": "code",
   "execution_count": null,
   "id": "a2485436",
   "metadata": {},
   "outputs": [],
   "source": []
  }
 ],
 "metadata": {
  "hide_input": false,
  "kernelspec": {
   "display_name": "Python 3 (ipykernel)",
   "language": "python",
   "name": "python3"
  },
  "language_info": {
   "codemirror_mode": {
    "name": "ipython",
    "version": 3
   },
   "file_extension": ".py",
   "mimetype": "text/x-python",
   "name": "python",
   "nbconvert_exporter": "python",
   "pygments_lexer": "ipython3",
   "version": "3.9.13"
  },
  "toc": {
   "base_numbering": 1,
   "nav_menu": {},
   "number_sections": true,
   "sideBar": true,
   "skip_h1_title": false,
   "title_cell": "Table of Contents",
   "title_sidebar": "Contents",
   "toc_cell": false,
   "toc_position": {},
   "toc_section_display": true,
   "toc_window_display": false
  },
  "varInspector": {
   "cols": {
    "lenName": 16,
    "lenType": 16,
    "lenVar": 40
   },
   "kernels_config": {
    "python": {
     "delete_cmd_postfix": "",
     "delete_cmd_prefix": "del ",
     "library": "var_list.py",
     "varRefreshCmd": "print(var_dic_list())"
    },
    "r": {
     "delete_cmd_postfix": ") ",
     "delete_cmd_prefix": "rm(",
     "library": "var_list.r",
     "varRefreshCmd": "cat(var_dic_list()) "
    }
   },
   "types_to_exclude": [
    "module",
    "function",
    "builtin_function_or_method",
    "instance",
    "_Feature"
   ],
   "window_display": false
  }
 },
 "nbformat": 4,
 "nbformat_minor": 5
}
